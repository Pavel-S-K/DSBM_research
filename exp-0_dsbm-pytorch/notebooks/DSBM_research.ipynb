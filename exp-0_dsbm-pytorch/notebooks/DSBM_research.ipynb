{
 "cells": [
  {
   "cell_type": "code",
   "execution_count": 1,
   "id": "6afe0fe3-93e9-4ca1-aff0-49a8f0b225d9",
   "metadata": {},
   "outputs": [],
   "source": [
    "import torch\n",
    "import numpy as np\n",
    "import pandas as pd\n",
    "import torch.nn as nn\n",
    "import torch.nn.functional as F\n",
    "from torch.distributions import Normal\n",
    "from torch.utils.data import DataLoader, TensorDataset\n",
    "import matplotlib.pyplot as plt\n",
    "from tqdm import tqdm\n",
    "from functools import partial\n",
    "import copy\n",
    "\n",
    "from typing import List, Optional, Tuple\n",
    "import hydra\n",
    "from hydra import initialize, compose\n",
    "import pytorch_lightning as pl\n",
    "from omegaconf import DictConfig, OmegaConf\n",
    "\n",
    "import sys\n",
    "import os, shutil\n",
    "\n",
    "sys.path.append('..')"
   ]
  },
  {
   "cell_type": "code",
   "execution_count": 2,
   "id": "0c8dad29-f78f-4dae-80b6-54b8414a91ff",
   "metadata": {},
   "outputs": [],
   "source": [
    "# Импорт пользовательских функций\n",
    "from src.ScoreNetwork import ScoreNetwork\n",
    "from src.DSBM_model import DSBM, train_dsbm\n",
    "from src.draw_plot import draw_plot"
   ]
  },
  {
   "cell_type": "markdown",
   "id": "cf1d0a2d-b1a3-48ba-96b4-97eab6019960",
   "metadata": {},
   "source": [
    "## Загрузка и задание параметров эксперимента"
   ]
  },
  {
   "cell_type": "code",
   "execution_count": 3,
   "id": "9f6614ab-a8ea-4beb-b117-eed4de1ee0ba",
   "metadata": {},
   "outputs": [
    {
     "name": "stderr",
     "output_type": "stream",
     "text": [
      "Seed set to 42\n"
     ]
    },
    {
     "name": "stdout",
     "output_type": "stream",
     "text": [
      "{'name': 'gaussian', 'seed': 42, 'a': 10, 'dim': 5, 'sigma': 1, 'num_steps': 20, 'net_name': 'mlp_large', 'activation_fn': 'torch.nn.SiLU', 'model_name': 'dsbm', 'first_coupling': 'ref', 'inner_iters': 10000, 'outer_iters': 15, 'fb_sequence': ['b', 'f'], 'paths': {'experiments_dir_name': 'gaussian_dim-5_mean-10_var-1_N-20_lr-05'}}\n"
     ]
    }
   ],
   "source": [
    "# Импорт параметров модели и данных\n",
    "\n",
    "with initialize(version_base=None, config_path=\"../configurations\"):\n",
    "    \n",
    "    cfg: DictConfig = compose(config_name=\"gaussian.yaml\")\n",
    "\n",
    "if cfg.get(\"seed\"):\n",
    "    pl.seed_everything(cfg.seed, workers=True)\n",
    "print(cfg)\n",
    "\n",
    "RESULT_DIR = '../results/' + cfg.paths.experiments_dir_name + '/'\n",
    "if os.path.exists(RESULT_DIR):\n",
    "    shutil.rmtree(RESULT_DIR)\n",
    "os.makedirs(RESULT_DIR, exist_ok=True)\n",
    "\n",
    "OmegaConf.save(cfg, RESULT_DIR + 'config.yaml')\n",
    "\n",
    "\n",
    "# Параметры обучения\n",
    "device = 'cpu'\n",
    "dataset_size = 10000\n",
    "test_dataset_size = 10000\n",
    "lr = 1e-5\n",
    "batch_size = 128"
   ]
  },
  {
   "cell_type": "markdown",
   "id": "107df4fc-3d08-4cfc-81c6-5461803ee40c",
   "metadata": {},
   "source": [
    "## Генерация train-test датасетов (двух гауссиан)"
   ]
  },
  {
   "cell_type": "code",
   "execution_count": 4,
   "id": "1061d32b-a5ce-47c1-a91d-e722272d740c",
   "metadata": {},
   "outputs": [
    {
     "name": "stdout",
     "output_type": "stream",
     "text": [
      "Гауссиана 0:\n",
      "mean:  -9.99754524230957\n",
      "var:  1.014742374420166\n",
      "cnt:  10000\n",
      "dim:  5\n",
      "\n",
      "Гауссиана 1:\n",
      "mean:  10.001769065856934\n",
      "var:  1.0090255737304688\n",
      "cnt:  10000\n",
      "dim:  5\n"
     ]
    }
   ],
   "source": [
    "# Генерация Гауссиан\n",
    "\n",
    "a = cfg.a\n",
    "dim = cfg.dim\n",
    "initial_model = Normal(-a * torch.ones((dim, )), 1)\n",
    "target_model = Normal(a * torch.ones((dim, )), 1)\n",
    "\n",
    "x0 = initial_model.sample([dataset_size])\n",
    "x1 = target_model.sample([dataset_size])\n",
    "x_pairs = torch.stack([x0, x1], dim=1).to(device)\n",
    "\n",
    "x0_test = initial_model.sample([test_dataset_size])\n",
    "x1_test = target_model.sample([test_dataset_size])\n",
    "x0_test = x0_test.to(device)\n",
    "x1_test = x1_test.to(device)\n",
    "\n",
    "# Сохраняем сформированные датасеты\n",
    "torch.save({'x0': x0, 'x1': x1, 'x0_test': x0_test, 'x1_test': x1_test}, RESULT_DIR + \"data.pt\")\n",
    "x_test_dict = {'f': x0_test, 'b': x1_test}\n",
    "\n",
    "print('Гауссиана 0:')\n",
    "print('mean: ', x0.mean().item())\n",
    "print('var: ', x0.var().item())\n",
    "print('cnt: ', x0.shape[0])\n",
    "print('dim: ', x0.shape[1])\n",
    "\n",
    "print('\\nГауссиана 1:')\n",
    "print('mean: ', x1.mean().item())\n",
    "print('var: ', x1.var().item())\n",
    "print('cnt: ', x1.shape[0])\n",
    "print('dim: ', x1.shape[1])"
   ]
  },
  {
   "cell_type": "markdown",
   "id": "9e62d04b-adb2-4586-ac1f-41343fa65847",
   "metadata": {},
   "source": [
    "## Инициализация модели"
   ]
  },
  {
   "cell_type": "code",
   "execution_count": 5,
   "id": "9c44b18d-57d5-4406-9dfa-2e09dbc63f71",
   "metadata": {},
   "outputs": [],
   "source": [
    "# Определение структуры модели\n",
    "\n",
    "net_split = cfg.net_name.split(\"_\")\n",
    "if net_split[0] == \"mlp\":\n",
    "    if net_split[1] == \"small\":\n",
    "        net_fn = partial(ScoreNetwork, input_dim=dim+1, layer_widths=[128, 128, dim], activation_fn=hydra.utils.get_class(cfg.activation_fn)()) \n",
    "    else:\n",
    "        net_fn = partial(ScoreNetwork, input_dim=dim+1, layer_widths=[256, 256, dim], activation_fn=hydra.utils.get_class(cfg.activation_fn)())  \n",
    "else:\n",
    "    raise NotImplementedError\n",
    "\n",
    "num_steps = cfg.num_steps\n",
    "sigma = cfg.sigma\n",
    "inner_iters = cfg.inner_iters\n",
    "outer_iters = cfg.outer_iters\n",
    "\n",
    "\n",
    "if cfg.model_name == \"dsbm\":\n",
    "    model = DSBM(net_fwd=net_fn().to(device), \n",
    "                 net_bwd=net_fn().to(device), \n",
    "                 num_steps=num_steps, sig=sigma, first_coupling=cfg.first_coupling)\n",
    "    train_fn = partial(train_dsbm, lr=lr)\n",
    "else:\n",
    "    raise ValueError(\"Wrong model_name!\")\n",
    "\n",
    "model_list = []\n",
    "\n",
    "optimal_result_dict = {'mean': x0_test.mean(0).mean(0).item(), 'var': x0_test.var(0).mean(0).item(), 'cov': (np.sqrt(5) - 1) / 2}\n",
    "result_list = {k: [] for k in optimal_result_dict.keys()}"
   ]
  },
  {
   "cell_type": "markdown",
   "id": "890d7310-9e09-4208-98e5-8efcb93e1dbb",
   "metadata": {},
   "source": [
    "## Train-test loops"
   ]
  },
  {
   "cell_type": "code",
   "execution_count": 6,
   "id": "ad144289-9377-4c33-bebe-9cba3c1363be",
   "metadata": {},
   "outputs": [
    {
     "name": "stdout",
     "output_type": "stream",
     "text": [
      "Iteration 1/15 b\n"
     ]
    },
    {
     "name": "stderr",
     "output_type": "stream",
     "text": [
      "100%|███████████████████████████████████████████████████████████████████████████| 10000/10000 [00:33<00:00, 297.49it/s]\n"
     ]
    },
    {
     "name": "stdout",
     "output_type": "stream",
     "text": [
      "Iteration 2/15 f\n"
     ]
    },
    {
     "name": "stderr",
     "output_type": "stream",
     "text": [
      "100%|███████████████████████████████████████████████████████████████████████████| 10000/10000 [01:11<00:00, 140.42it/s]\n"
     ]
    },
    {
     "name": "stdout",
     "output_type": "stream",
     "text": [
      "Iteration 3/15 b\n"
     ]
    },
    {
     "name": "stderr",
     "output_type": "stream",
     "text": [
      "100%|███████████████████████████████████████████████████████████████████████████| 10000/10000 [01:10<00:00, 141.21it/s]\n"
     ]
    },
    {
     "name": "stdout",
     "output_type": "stream",
     "text": [
      "Iteration 4/15 f\n"
     ]
    },
    {
     "name": "stderr",
     "output_type": "stream",
     "text": [
      "100%|███████████████████████████████████████████████████████████████████████████| 10000/10000 [01:11<00:00, 140.78it/s]\n"
     ]
    },
    {
     "name": "stdout",
     "output_type": "stream",
     "text": [
      "Iteration 5/15 b\n"
     ]
    },
    {
     "name": "stderr",
     "output_type": "stream",
     "text": [
      "100%|███████████████████████████████████████████████████████████████████████████| 10000/10000 [01:10<00:00, 142.65it/s]\n"
     ]
    },
    {
     "name": "stdout",
     "output_type": "stream",
     "text": [
      "Iteration 6/15 f\n"
     ]
    },
    {
     "name": "stderr",
     "output_type": "stream",
     "text": [
      "100%|███████████████████████████████████████████████████████████████████████████| 10000/10000 [01:09<00:00, 143.67it/s]\n"
     ]
    },
    {
     "name": "stdout",
     "output_type": "stream",
     "text": [
      "Iteration 7/15 b\n"
     ]
    },
    {
     "name": "stderr",
     "output_type": "stream",
     "text": [
      "100%|███████████████████████████████████████████████████████████████████████████| 10000/10000 [01:09<00:00, 143.18it/s]\n"
     ]
    },
    {
     "name": "stdout",
     "output_type": "stream",
     "text": [
      "Iteration 8/15 f\n"
     ]
    },
    {
     "name": "stderr",
     "output_type": "stream",
     "text": [
      "100%|███████████████████████████████████████████████████████████████████████████| 10000/10000 [01:10<00:00, 142.26it/s]\n"
     ]
    },
    {
     "name": "stdout",
     "output_type": "stream",
     "text": [
      "Iteration 9/15 b\n"
     ]
    },
    {
     "name": "stderr",
     "output_type": "stream",
     "text": [
      "100%|███████████████████████████████████████████████████████████████████████████| 10000/10000 [01:10<00:00, 141.73it/s]\n"
     ]
    },
    {
     "name": "stdout",
     "output_type": "stream",
     "text": [
      "Iteration 10/15 f\n"
     ]
    },
    {
     "name": "stderr",
     "output_type": "stream",
     "text": [
      "100%|███████████████████████████████████████████████████████████████████████████| 10000/10000 [01:09<00:00, 144.80it/s]\n"
     ]
    },
    {
     "name": "stdout",
     "output_type": "stream",
     "text": [
      "Iteration 11/15 b\n"
     ]
    },
    {
     "name": "stderr",
     "output_type": "stream",
     "text": [
      "100%|███████████████████████████████████████████████████████████████████████████| 10000/10000 [01:07<00:00, 147.18it/s]\n"
     ]
    },
    {
     "name": "stdout",
     "output_type": "stream",
     "text": [
      "Iteration 12/15 f\n"
     ]
    },
    {
     "name": "stderr",
     "output_type": "stream",
     "text": [
      "100%|███████████████████████████████████████████████████████████████████████████| 10000/10000 [01:08<00:00, 145.17it/s]\n"
     ]
    },
    {
     "name": "stdout",
     "output_type": "stream",
     "text": [
      "Iteration 13/15 b\n"
     ]
    },
    {
     "name": "stderr",
     "output_type": "stream",
     "text": [
      "100%|███████████████████████████████████████████████████████████████████████████| 10000/10000 [01:10<00:00, 141.66it/s]\n"
     ]
    },
    {
     "name": "stdout",
     "output_type": "stream",
     "text": [
      "Iteration 14/15 f\n"
     ]
    },
    {
     "name": "stderr",
     "output_type": "stream",
     "text": [
      "100%|███████████████████████████████████████████████████████████████████████████| 10000/10000 [01:10<00:00, 142.12it/s]\n"
     ]
    },
    {
     "name": "stdout",
     "output_type": "stream",
     "text": [
      "Iteration 15/15 b\n"
     ]
    },
    {
     "name": "stderr",
     "output_type": "stream",
     "text": [
      "100%|███████████████████████████████████████████████████████████████████████████| 10000/10000 [01:10<00:00, 141.33it/s]\n"
     ]
    }
   ],
   "source": [
    "# Training loop\n",
    "\n",
    "it = 1\n",
    "\n",
    "while it <= outer_iters:\n",
    "    for fb in cfg.fb_sequence:\n",
    "      print(f\"Iteration {it}/{outer_iters} {fb}\")\n",
    "\n",
    "      # train\n",
    "      if len(model_list) == 0:\n",
    "        prev_model = None\n",
    "        first_it = True\n",
    "      else:\n",
    "        prev_model = model_list[-1][\"model\"].eval()\n",
    "        first_it = False\n",
    "          \n",
    "      model, loss_curve = train_fn(model, x_pairs, batch_size, inner_iters, prev_model=prev_model, fb=fb, first_it=first_it)\n",
    "      model_list.append({'fb': fb, 'model': copy.deepcopy(model).eval()})\n",
    "\n",
    "      # test - только для модели b -> f\n",
    "      if fb == 'b':\n",
    "\n",
    "          i = len(model_list)\n",
    "          traj = model.eval().sample_sde(zstart=x1_test, fb='b', N=cfg.num_steps)\n",
    "        \n",
    "          draw_plot(traj, z0=x0_test, z1=x1_test)\n",
    "          plt.savefig(RESULT_DIR + f\"iter_{i}-b.png\")\n",
    "          plt.close()\n",
    "        \n",
    "          result_list['mean'].append(traj[-1].mean(0).mean(0).item())\n",
    "          result_list['var'].append(traj[-1].var(0).mean(0).item())\n",
    "          result_list['cov'].append(torch.cov(torch.cat([traj[0], traj[-1]], dim=1).T)[dim:, :dim].diag().mean(0).item())\n",
    "\n",
    "          for j, k in enumerate(result_list.keys()):\n",
    "              plt.plot(result_list[k], label=f\"{cfg.model_name}-{cfg.net_name}\")\n",
    "              plt.plot(np.arange(len(result_list[k])), optimal_result_dict[k] * np.ones(len(result_list[k])), label=\"optimal\", linestyle=\"--\")\n",
    "              plt.title(k.capitalize())\n",
    "              if j == 0:\n",
    "                  plt.legend()\n",
    "              plt.savefig(RESULT_DIR +  f\"convergence_{k}.png\")\n",
    "              plt.close()\n",
    "      else:\n",
    "          pass\n",
    "\n",
    "      it += 1\n",
    "      if it > outer_iters:\n",
    "        break\n",
    "\n",
    "# Сохраняем результаты\n",
    "# Сохраняем параметры моделей\n",
    "torch.save([{'fb': m['fb'], 'model': m['model'].state_dict()} for m in model_list], RESULT_DIR + \"model_list.pt\")\n",
    "\n",
    "# Сохраняем последнюю версию модели\n",
    "torch.save(model_list[-1]['model'].eval(), RESULT_DIR + 'best_model.pth')\n",
    "\n",
    "df_result = pd.DataFrame(result_list)\n",
    "df_result.to_csv(RESULT_DIR + 'df_result.csv')\n",
    "df_result.to_pickle(RESULT_DIR+ 'df_result.pkl')"
   ]
  },
  {
   "cell_type": "code",
   "execution_count": null,
   "id": "5584e0e1-5bad-47b3-94c3-c1694b26b922",
   "metadata": {},
   "outputs": [],
   "source": []
  }
 ],
 "metadata": {
  "kernelspec": {
   "display_name": "Python 3 (ipykernel)",
   "language": "python",
   "name": "python3"
  },
  "language_info": {
   "codemirror_mode": {
    "name": "ipython",
    "version": 3
   },
   "file_extension": ".py",
   "mimetype": "text/x-python",
   "name": "python",
   "nbconvert_exporter": "python",
   "pygments_lexer": "ipython3",
   "version": "3.12.5"
  }
 },
 "nbformat": 4,
 "nbformat_minor": 5
}
