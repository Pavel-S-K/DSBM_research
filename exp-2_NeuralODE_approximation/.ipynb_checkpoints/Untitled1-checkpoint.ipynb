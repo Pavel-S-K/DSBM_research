{
 "cells": [
  {
   "cell_type": "markdown",
   "id": "f520df3e-524f-41d6-b37c-739ba426f33d",
   "metadata": {},
   "source": [
    "# Аппроксимация диффузионного моста\n",
    "\n",
    "\n",
    "Исследование возможности аппроксимации SDE диффузионного моста с помощью нейронных обыкновенных дифференциальных уравнений (NeuralODE).\n",
    "\n",
    "\n",
    "## 📁 Файловая структура\n",
    "\n",
    "```  \n",
    "exp-2_NeuralODE/\n",
    "│\n",
    "├── Bridges/                        # Компоненты мостовой архитектуры\n",
    "│ ├── data.pt                       # Обучающие и тестовые данные для моста\n",
    "│ ├── model_list.pt                 # Сохраненные параметры моста\n",
    "│ └── 📈... .png                    # Графики метрик обучения моста\n",
    "│\n",
    "├── plots_and_results/              # Результаты обучения NeuralODE\n",
    "│ ├── NeuralODE.pth                 # Финальная обученная модель\n",
    "│ ├── 📈train_.png                  # Метрики на train данных\n",
    "│ └── 📈test_*.png                  # Метрики на test данных  \n",
    "│\n",
    "├── NeuralODE.py                    # Основной скрипт\n",
    "│\n",
    "└── requirements.txt                # Зависимости Python\n",
    "```  \n",
    "\n",
    "\n",
    "## 🎯 Мотивация\n",
    "\n",
    "<!-- 1-2 абзаца. Какую проблему решает проект? Зачем он был создан? -->\n",
    "Кратко опишите, почему вы создали этот проект. Например, это было учебное задание, проверка гипотезы или просто пет-проект для изучения новой технологии.\n",
    "\n",
    "## 🚀 Установка\n",
    "\n",
    "Для запуска проекта вам потребуются следующие библиотеки. Установите их с помощью pip:\n",
    "\n",
    "```bash  \n",
    "pip install -r requirements.txt  "
   ]
  },
  {
   "cell_type": "markdown",
   "id": "d11c8925-f093-4f79-8fad-77a64e5d64d7",
   "metadata": {},
   "source": [
    "## 📁 Файловая структура\n",
    "\n",
    "```  \n",
    "├── 📁 Bridges/                     # Компоненты мостовой архитектуры  \n",
    "│   ├── 💾 data.pt                  # Обучающие данные для моста  \n",
    "│   ├── 🤖 model_list.pt            # Сохраненные параметры моста  \n",
    "│   └── 📊 *.png                    # Графики метрик обучения моста  \n",
    "│  \n",
    "└── 📁 plots_and_results/           # Результаты обучения NeuralODE  \n",
    "    ├── 🧠 NeuralODE.pth            # Финальная обученная модель  \n",
    "    ├── 📈 train_*.png              # Метрики на train данных  \n",
    "    └── 📉 test_*.png               # Метрики на test данных  \n",
    "```"
   ]
  },
  {
   "cell_type": "code",
   "execution_count": null,
   "id": "d7bf477f-6fed-4105-9a94-fd2f60782200",
   "metadata": {},
   "outputs": [],
   "source": []
  }
 ],
 "metadata": {
  "kernelspec": {
   "display_name": "Python 3 (ipykernel)",
   "language": "python",
   "name": "python3"
  },
  "language_info": {
   "codemirror_mode": {
    "name": "ipython",
    "version": 3
   },
   "file_extension": ".py",
   "mimetype": "text/x-python",
   "name": "python",
   "nbconvert_exporter": "python",
   "pygments_lexer": "ipython3",
   "version": "3.12.5"
  }
 },
 "nbformat": 4,
 "nbformat_minor": 5
}
